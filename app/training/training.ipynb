{
 "cells": [
  {
   "cell_type": "code",
   "execution_count": null,
   "metadata": {},
   "outputs": [],
   "source": [
    "# import library yang diperlukan\n",
    "from sklearn.neighbors import KNeighborsClassifier\n",
    "from sklearn.metrics import confusion_matrix, classification_report, accuracy_score\n",
    "import numpy as np\n",
    "import os\n",
    "import cv2\n",
    "from matplotlib import pyplot as plt\n",
    "import seaborn as sns\n",
    "import pickle\n",
    "import json\n",
    "import xlsxwriter"
   ]
  },
  {
   "cell_type": "code",
   "execution_count": null,
   "metadata": {},
   "outputs": [],
   "source": [
    "# Konfigurasi project ukuran gambar dan folder datasets\n",
    "IMAGE_SIZE = (256, 256)\n",
    "DATASETS_DIR = \"datasets\"\n",
    "TRAINING_DIR = f\"{DATASETS_DIR}/training\"\n",
    "TESTING_DIR = f\"{DATASETS_DIR}/testing\""
   ]
  },
  {
   "cell_type": "code",
   "execution_count": null,
   "metadata": {},
   "outputs": [],
   "source": [
    "# fungsi preProcessing gambar\n",
    "def preProcessingData(image):\n",
    "    resized_image = cv2.resize(\n",
    "        image, IMAGE_SIZE\n",
    "    )  # ubah ukuran gambar menjadi (256, 256)\n",
    "    greyscale_image = cv2.cvtColor(resized_image, cv2.COLOR_BGR2GRAY)  # grayscale\n",
    "    trensholding_image = cv2.adaptiveThreshold(\n",
    "        greyscale_image, 255, cv2.ADAPTIVE_THRESH_MEAN_C, cv2.THRESH_BINARY, 5, 1\n",
    "    )  # trensholding gambar\n",
    "    filter_canny_image = cv2.Canny(trensholding_image, 25, 255)  # filter canny\n",
    "\n",
    "    # fungsi invariant moment\n",
    "    contours, _ = cv2.findContours(\n",
    "        filter_canny_image, cv2.RETR_EXTERNAL, cv2.CHAIN_APPROX_SIMPLE\n",
    "    )\n",
    "\n",
    "    max_contour = max(contours, key=cv2.contourArea)\n",
    "\n",
    "    moments = cv2.moments(max_contour)\n",
    "\n",
    "    hu_moments = cv2.HuMoments(moments)\n",
    "\n",
    "    return hu_moments.flatten()"
   ]
  },
  {
   "cell_type": "code",
   "execution_count": null,
   "metadata": {},
   "outputs": [],
   "source": [
    "# persiapkan variable penampung untuk class dan data x_train,y_train,x_test,y_test\n",
    "classes = []\n",
    "x_train = []\n",
    "y_train = []\n",
    "x_test = []\n",
    "y_test = []"
   ]
  },
  {
   "cell_type": "code",
   "execution_count": null,
   "metadata": {},
   "outputs": [],
   "source": [
    "# setup data header untuk excel extraksi fitur\n",
    "extraksi_fitur = []\n",
    "label_fitur = [\"Nomor\", \"Jenis\", \"M1\", \"M2\", \"M3\", \"M4\", \"M5\", \"M6\", \"M7\"]\n",
    "extraksi_fitur.append(label_fitur)"
   ]
  },
  {
   "cell_type": "code",
   "execution_count": null,
   "metadata": {},
   "outputs": [],
   "source": [
    "# digunakan untuk mengambil datasets training dan melakukan preprocessing setelah itu hasil dari data gambar disimpan di variabel x_train dan label disimpan di y_test\n",
    "print(\"===== Memulai Memproses Gambar untuk Training =====\")\n",
    "root, dirs, _ = next(os.walk(TRAINING_DIR))\n",
    "container_datas = []\n",
    "container_labels = []\n",
    "no = 0\n",
    "for i, dir in enumerate(dirs):\n",
    "    folder_jenis = f\"{TRAINING_DIR}/{dir}\"\n",
    "    files = next(os.walk(folder_jenis))\n",
    "    print(\"===== memproses Folder = \", dir, \"=====\")\n",
    "    data = []\n",
    "    labels = []\n",
    "    for o, file in enumerate(files[2]):\n",
    "        no += 1\n",
    "        print(f\"memproses gambar {dir} =  {o+1}/{len(files[2])}\")\n",
    "        input = cv2.imread(f\"{folder_jenis}/{file}\")\n",
    "        output = preProcessingData(input)\n",
    "        data.append(output)\n",
    "        labels.append(i)\n",
    "        excel_data = [no, dir] + output.tolist()\n",
    "        extraksi_fitur.append(excel_data)\n",
    "    container_datas.append(data)\n",
    "    container_labels.append(labels)\n",
    "    classes.append(dir)\n",
    "print(\"===== Selesai Memproses Gambar untuk Training =====\")\n",
    "x_train = np.concatenate(container_datas)\n",
    "y_train = np.concatenate(container_labels)"
   ]
  },
  {
   "cell_type": "code",
   "execution_count": null,
   "metadata": {},
   "outputs": [],
   "source": [
    "# digunakan untuk mengambil datasets testing dan melakukan preprocessing setelah itu hasil dari data gambar disimpan di variabel x_train dan label disimpan di y_test\n",
    "print(\"===== Memulai Memproses Gambar untuk Testing =====\")\n",
    "root, dirs, _ = next(os.walk(TESTING_DIR))\n",
    "container_datas = []\n",
    "container_labels = []\n",
    "for i, dir in enumerate(dirs):\n",
    "    folder_jenis = f\"{TESTING_DIR}/{dir}\"\n",
    "    files = next(os.walk(folder_jenis))\n",
    "    print(\"===== memproses Folder = \", dir, \"=====\")\n",
    "    data = []\n",
    "    labels = []\n",
    "    for o, file in enumerate(files[2]):\n",
    "        print(f\"memproses gambar {dir} =  {o+1}/{len(files[2])}\")\n",
    "        input = cv2.imread(f\"{folder_jenis}/{file}\")\n",
    "        output = preProcessingData(input)\n",
    "        data.append(output)\n",
    "        labels.append(i)\n",
    "    container_datas.append(data)\n",
    "    container_labels.append(labels)\n",
    "print(\"===== Selesai Memproses Gambar untuk Testing =====\")\n",
    "x_test = np.concatenate(container_datas)\n",
    "y_test = np.concatenate(container_labels)"
   ]
  },
  {
   "cell_type": "code",
   "execution_count": null,
   "metadata": {},
   "outputs": [],
   "source": [
    "# ubah dimensi data\n",
    "x_train = x_train.reshape(x_train.shape[0], -1)\n",
    "x_test = x_test.reshape(x_test.shape[0], -1)"
   ]
  },
  {
   "cell_type": "code",
   "execution_count": null,
   "metadata": {},
   "outputs": [],
   "source": [
    "# inisialisasi model KKN dengan nilai N adalah 5 dan training dengan menggunakan data yang sudah dipersiapkan sebelumnya\n",
    "model = KNeighborsClassifier(n_neighbors=5)\n",
    "model.fit(x_train, y_train)"
   ]
  },
  {
   "cell_type": "code",
   "execution_count": null,
   "metadata": {},
   "outputs": [],
   "source": [
    "# testing model yang telah dilatih menggunakan data testing\n",
    "y_pred = model.predict(x_test)"
   ]
  },
  {
   "cell_type": "code",
   "execution_count": null,
   "metadata": {},
   "outputs": [],
   "source": [
    "# generate clasification report\n",
    "print(classification_report(y_test, y_pred, target_names=classes, zero_division=1))"
   ]
  },
  {
   "cell_type": "code",
   "execution_count": null,
   "metadata": {},
   "outputs": [],
   "source": [
    "# simpan model dan label untuk digunakan di aplikasi web\n",
    "print(\"===== Menyimpan Model =====\")\n",
    "with open(\"../models/knn_model.model\", \"wb\") as knn_model:\n",
    "    pickle.dump(model, knn_model)\n",
    "\n",
    "print(\"===== Menyimpan Label/Jenis Ikan Cupang =====\")\n",
    "with open(\"../models/labels.json\", \"w\", encoding=\"utf-8\") as f:\n",
    "    json.dump(classes, f, ensure_ascii=False, indent=4)"
   ]
  },
  {
   "cell_type": "code",
   "execution_count": null,
   "metadata": {},
   "outputs": [],
   "source": [
    "# simpan data extraksi fitur dalam bentuk excel\n",
    "print(\"===== Menyimpan Excel  =====\")\n",
    "workbook = xlsxwriter.Workbook(\"../models/hasil.xlsx\")\n",
    "worksheet = workbook.add_worksheet(\"extraksi fitur\")\n",
    "for baris, row in enumerate(extraksi_fitur):\n",
    "    for kolom, col in enumerate(row):\n",
    "        worksheet.write(baris, kolom, col)\n",
    "workbook.close()"
   ]
  },
  {
   "cell_type": "code",
   "execution_count": null,
   "metadata": {},
   "outputs": [],
   "source": [
    "print(\"===== Selesai =====\")"
   ]
  },
  {
   "cell_type": "code",
   "execution_count": null,
   "metadata": {},
   "outputs": [],
   "source": [
    "# Generate Confusional Matrix\n",
    "fig, ax = plt.subplots(figsize=(8, 8))\n",
    "cmatrix = confusion_matrix(y_test, y_pred)\n",
    "sns.color_palette(\"hls\", 8)\n",
    "sns.heatmap(\n",
    "    cmatrix,\n",
    "    cmap=\"rocket\",\n",
    "    annot=True,\n",
    "    fmt=\".4g\",\n",
    "    linewidths=1,\n",
    "    linecolor=\"white\",\n",
    ")\n",
    "\n",
    "ax.set_title(\"Confusion Matrix\", fontsize=20, pad=24)\n",
    "ax.set_xticklabels(labels=classes, fontsize=18)\n",
    "ax.set_yticklabels(labels=classes, fontsize=18)\n",
    "\n",
    "plt.xlabel(\"(y) Prediksi\", fontsize=16, color=\"black\", labelpad=24)\n",
    "plt.ylabel(\"(y) Sebenarnya\", fontsize=16, color=\"black\", labelpad=24)\n",
    "plt.show()"
   ]
  },
  {
   "cell_type": "code",
   "execution_count": null,
   "metadata": {},
   "outputs": [],
   "source": [
    "# cetak akurasi dari model yang telah di testing menggunakan data testing\n",
    "print(f\"Akurasi = {accuracy_score(y_test, y_pred)}\")"
   ]
  }
 ],
 "metadata": {
  "kernelspec": {
   "display_name": ".venv",
   "language": "python",
   "name": "python3"
  },
  "language_info": {
   "codemirror_mode": {
    "name": "ipython",
    "version": 3
   },
   "file_extension": ".py",
   "mimetype": "text/x-python",
   "name": "python",
   "nbconvert_exporter": "python",
   "pygments_lexer": "ipython3",
   "version": "3.11.6"
  }
 },
 "nbformat": 4,
 "nbformat_minor": 2
}
